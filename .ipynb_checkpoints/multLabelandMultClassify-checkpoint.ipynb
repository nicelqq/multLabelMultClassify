{
 "cells": [
  {
   "cell_type": "markdown",
   "metadata": {},
   "source": [
    "# 对于多标签多分类问题"
   ]
  },
  {
   "cell_type": "markdown",
   "metadata": {},
   "source": [
    "## 单标签多分类算法原理\n"
   ]
  },
  {
   "cell_type": "markdown",
   "metadata": {},
   "source": [
    "\n",
    "1、单标签多分类问题其实是指待预测的label标签只有一个，但是 label标签的取值可能有多种情况；直白来讲就是每个实例的可能\n",
    "   类别有K种(t1,t2,...tk,k≥3)；\n",
    "   \n",
    "2、常见算法：Softmax、SVM、KNN、决策树（集成学习 ----RF（Bagging）、Boosting（Adaboost、GBDT）；XGBoost） \n"
   ]
  },
  {
   "cell_type": "code",
   "execution_count": null,
   "metadata": {},
   "outputs": [],
   "source": []
  },
  {
   "cell_type": "markdown",
   "metadata": {},
   "source": [
    "## 单标签多分类算法原理-ovo"
   ]
  },
  {
   "cell_type": "markdown",
   "metadata": {},
   "source": [
    "原理：将K个类别中的两两类别数据进行组合，然后使用组合后的 数据训练出来一个模型，从而产生K(K-1)/2个分类器，将这些分类\n",
    "     器的结果进行融合，并将分类器的预测结果使用多数投票的方式 输出最终的预测结果值。"
   ]
  },
  {
   "cell_type": "markdown",
   "metadata": {},
   "source": [
    "## 单标签多分类算法原理-ovr"
   ]
  },
  {
   "cell_type": "markdown",
   "metadata": {},
   "source": [
    "ovr与softmax的区别：\n",
    "\n",
    "    ① softmax 每一次训练模型用的是整个训练数据中的某一类别的数据，从而得到该类别的权重系数，通过测试集计算各个类型权\n",
    "      重的预测值，取最大的预测值（或者概率）的类型作为预测类型。\n",
    "      \n",
    "    ② ovr 每一次是代入所有的训练集数据来训练子模型，取出结果为正例的类别（多个正例取最大值）。\n"
   ]
  },
  {
   "cell_type": "markdown",
   "metadata": {},
   "source": [
    "## 多标签多分类"
   ]
  },
  {
   "cell_type": "markdown",
   "metadata": {},
   "source": [
    "1、多标签多分类这类问题的解决方案可以分为两大类：\n",
    "\n",
    "    1) 转换策略(Problem Transformation Methods)；\n",
    "    \n",
    "        • Binary Relevance(first-order)           --------- y标签之间相互独立\n",
    "        • Classifier Chains(high-order)           --------- y标签之间相互依赖（链式）\n",
    "        • Calibrated Label Ranking(second-order)  --------- 了解\n",
    "        \n",
    "    2) 算法适应(Algorithm Adaptation)。\n",
    "        • ML-kNN \n",
    "        • ML-DT"
   ]
  },
  {
   "cell_type": "markdown",
   "metadata": {},
   "source": [
    "## 多标签多分类的评价指标"
   ]
  },
  {
   "cell_type": "code",
   "execution_count": null,
   "metadata": {},
   "outputs": [],
   "source": [
    "（1）Hamming loss（汉明损失） ：所有label中错误分类样本的比例，from sklearn.metrics import hamming_loss\n",
    "（2）Jaccard index(杰卡德指数)：预测结果与真实值的相似程度；\n",
    "（3）精确率、召回率、F1"
   ]
  },
  {
   "cell_type": "markdown",
   "metadata": {},
   "source": [
    "# 数据准备"
   ]
  },
  {
   "cell_type": "markdown",
   "metadata": {},
   "source": [
    "## 连接数据"
   ]
  },
  {
   "cell_type": "code",
   "execution_count": 24,
   "metadata": {},
   "outputs": [],
   "source": [
    "import pyodbc\n",
    "#connect odbc \n",
    "cnxn = pyodbc.connect(\"DSN=tdh\")\n",
    "cursor = cnxn.cursor()"
   ]
  },
  {
   "cell_type": "markdown",
   "metadata": {},
   "source": [
    "## 获取钢轨+过重+伤损数据"
   ]
  },
  {
   "cell_type": "code",
   "execution_count": 25,
   "metadata": {},
   "outputs": [
    {
     "data": {
      "text/html": [
       "<div>\n",
       "<style scoped>\n",
       "    .dataframe tbody tr th:only-of-type {\n",
       "        vertical-align: middle;\n",
       "    }\n",
       "\n",
       "    .dataframe tbody tr th {\n",
       "        vertical-align: top;\n",
       "    }\n",
       "\n",
       "    .dataframe thead th {\n",
       "        text-align: right;\n",
       "    }\n",
       "</style>\n",
       "<table border=\"1\" class=\"dataframe\">\n",
       "  <thead>\n",
       "    <tr style=\"text-align: right;\">\n",
       "      <th></th>\n",
       "      <th>ann_gross_weight</th>\n",
       "      <th>weight_ratio</th>\n",
       "      <th>damage_m</th>\n",
       "      <th>laying_obs_time_dif</th>\n",
       "      <th>distance_weight</th>\n",
       "      <th>time_diff_weight</th>\n",
       "      <th>distance_degree</th>\n",
       "      <th>damage_degree</th>\n",
       "    </tr>\n",
       "  </thead>\n",
       "  <tbody>\n",
       "    <tr>\n",
       "      <th>0</th>\n",
       "      <td>16.592</td>\n",
       "      <td>0.085</td>\n",
       "      <td>1</td>\n",
       "      <td>2953</td>\n",
       "      <td>0.001</td>\n",
       "      <td>0.0</td>\n",
       "      <td>0.0</td>\n",
       "      <td>0</td>\n",
       "    </tr>\n",
       "    <tr>\n",
       "      <th>1</th>\n",
       "      <td>16.592</td>\n",
       "      <td>0.085</td>\n",
       "      <td>1</td>\n",
       "      <td>2953</td>\n",
       "      <td>0.001</td>\n",
       "      <td>0.0</td>\n",
       "      <td>0.0</td>\n",
       "      <td>0</td>\n",
       "    </tr>\n",
       "    <tr>\n",
       "      <th>2</th>\n",
       "      <td>48.463</td>\n",
       "      <td>0.298</td>\n",
       "      <td>1</td>\n",
       "      <td>2393</td>\n",
       "      <td>0.001</td>\n",
       "      <td>0.0</td>\n",
       "      <td>0.0</td>\n",
       "      <td>0</td>\n",
       "    </tr>\n",
       "    <tr>\n",
       "      <th>3</th>\n",
       "      <td>48.463</td>\n",
       "      <td>0.119</td>\n",
       "      <td>1</td>\n",
       "      <td>1127</td>\n",
       "      <td>0.001</td>\n",
       "      <td>0.0</td>\n",
       "      <td>0.0</td>\n",
       "      <td>0</td>\n",
       "    </tr>\n",
       "    <tr>\n",
       "      <th>4</th>\n",
       "      <td>16.592</td>\n",
       "      <td>0.085</td>\n",
       "      <td>1</td>\n",
       "      <td>2953</td>\n",
       "      <td>0.001</td>\n",
       "      <td>0.0</td>\n",
       "      <td>0.0</td>\n",
       "      <td>0</td>\n",
       "    </tr>\n",
       "  </tbody>\n",
       "</table>\n",
       "</div>"
      ],
      "text/plain": [
       "   ann_gross_weight  weight_ratio  damage_m  laying_obs_time_dif  \\\n",
       "0            16.592         0.085         1                 2953   \n",
       "1            16.592         0.085         1                 2953   \n",
       "2            48.463         0.298         1                 2393   \n",
       "3            48.463         0.119         1                 1127   \n",
       "4            16.592         0.085         1                 2953   \n",
       "\n",
       "   distance_weight  time_diff_weight  distance_degree  damage_degree  \n",
       "0            0.001               0.0              0.0              0  \n",
       "1            0.001               0.0              0.0              0  \n",
       "2            0.001               0.0              0.0              0  \n",
       "3            0.001               0.0              0.0              0  \n",
       "4            0.001               0.0              0.0              0  "
      ]
     },
     "execution_count": 25,
     "metadata": {},
     "output_type": "execute_result"
    }
   ],
   "source": [
    "import pandas as pd\n",
    "dataInjury = pd.read_sql('''\n",
    "select ann_gross_weight,weight_ratio,damage_m,laying_obs_time_dif,distance_weight,time_diff_weight,distance_degree,damage_degree \n",
    "from railway_sys.model_injury_scale_10_result_csv''' ,con=cnxn)\n",
    "dataInjury.head()"
   ]
  },
  {
   "cell_type": "markdown",
   "metadata": {},
   "source": [
    "## 伤损记录标签"
   ]
  },
  {
   "cell_type": "markdown",
   "metadata": {},
   "source": [
    "### 伤损为1，没有为0"
   ]
  },
  {
   "cell_type": "code",
   "execution_count": 26,
   "metadata": {},
   "outputs": [],
   "source": [
    "def setLabel(data):\n",
    "    if data!=0:\n",
    "        return 1\n",
    "    else:\n",
    "        return 0\n",
    "  "
   ]
  },
  {
   "cell_type": "code",
   "execution_count": 27,
   "metadata": {},
   "outputs": [
    {
     "data": {
      "text/html": [
       "<div>\n",
       "<style scoped>\n",
       "    .dataframe tbody tr th:only-of-type {\n",
       "        vertical-align: middle;\n",
       "    }\n",
       "\n",
       "    .dataframe tbody tr th {\n",
       "        vertical-align: top;\n",
       "    }\n",
       "\n",
       "    .dataframe thead th {\n",
       "        text-align: right;\n",
       "    }\n",
       "</style>\n",
       "<table border=\"1\" class=\"dataframe\">\n",
       "  <thead>\n",
       "    <tr style=\"text-align: right;\">\n",
       "      <th></th>\n",
       "      <th>ann_gross_weight</th>\n",
       "      <th>weight_ratio</th>\n",
       "      <th>damage_m</th>\n",
       "      <th>laying_obs_time_dif</th>\n",
       "      <th>distance_weight</th>\n",
       "      <th>time_diff_weight</th>\n",
       "      <th>distance_degree</th>\n",
       "      <th>damage_degree</th>\n",
       "      <th>label</th>\n",
       "    </tr>\n",
       "  </thead>\n",
       "  <tbody>\n",
       "    <tr>\n",
       "      <th>0</th>\n",
       "      <td>16.592</td>\n",
       "      <td>0.085</td>\n",
       "      <td>1</td>\n",
       "      <td>2953</td>\n",
       "      <td>0.001</td>\n",
       "      <td>0.0</td>\n",
       "      <td>0.0</td>\n",
       "      <td>0</td>\n",
       "      <td>0</td>\n",
       "    </tr>\n",
       "    <tr>\n",
       "      <th>1</th>\n",
       "      <td>16.592</td>\n",
       "      <td>0.085</td>\n",
       "      <td>1</td>\n",
       "      <td>2953</td>\n",
       "      <td>0.001</td>\n",
       "      <td>0.0</td>\n",
       "      <td>0.0</td>\n",
       "      <td>0</td>\n",
       "      <td>0</td>\n",
       "    </tr>\n",
       "    <tr>\n",
       "      <th>2</th>\n",
       "      <td>48.463</td>\n",
       "      <td>0.298</td>\n",
       "      <td>1</td>\n",
       "      <td>2393</td>\n",
       "      <td>0.001</td>\n",
       "      <td>0.0</td>\n",
       "      <td>0.0</td>\n",
       "      <td>0</td>\n",
       "      <td>0</td>\n",
       "    </tr>\n",
       "    <tr>\n",
       "      <th>3</th>\n",
       "      <td>48.463</td>\n",
       "      <td>0.119</td>\n",
       "      <td>1</td>\n",
       "      <td>1127</td>\n",
       "      <td>0.001</td>\n",
       "      <td>0.0</td>\n",
       "      <td>0.0</td>\n",
       "      <td>0</td>\n",
       "      <td>0</td>\n",
       "    </tr>\n",
       "    <tr>\n",
       "      <th>4</th>\n",
       "      <td>16.592</td>\n",
       "      <td>0.085</td>\n",
       "      <td>1</td>\n",
       "      <td>2953</td>\n",
       "      <td>0.001</td>\n",
       "      <td>0.0</td>\n",
       "      <td>0.0</td>\n",
       "      <td>0</td>\n",
       "      <td>0</td>\n",
       "    </tr>\n",
       "  </tbody>\n",
       "</table>\n",
       "</div>"
      ],
      "text/plain": [
       "   ann_gross_weight  weight_ratio  damage_m  laying_obs_time_dif  \\\n",
       "0            16.592         0.085         1                 2953   \n",
       "1            16.592         0.085         1                 2953   \n",
       "2            48.463         0.298         1                 2393   \n",
       "3            48.463         0.119         1                 1127   \n",
       "4            16.592         0.085         1                 2953   \n",
       "\n",
       "   distance_weight  time_diff_weight  distance_degree  damage_degree  label  \n",
       "0            0.001               0.0              0.0              0      0  \n",
       "1            0.001               0.0              0.0              0      0  \n",
       "2            0.001               0.0              0.0              0      0  \n",
       "3            0.001               0.0              0.0              0      0  \n",
       "4            0.001               0.0              0.0              0      0  "
      ]
     },
     "execution_count": 27,
     "metadata": {},
     "output_type": "execute_result"
    }
   ],
   "source": [
    "  \n",
    "dataInjury['label']= dataInjury.damage_degree.apply(setLabel)\n",
    "dataInjury.head()"
   ]
  },
  {
   "cell_type": "code",
   "execution_count": 28,
   "metadata": {},
   "outputs": [
    {
     "data": {
      "text/plain": [
       "0    878333\n",
       "1      3032\n",
       "Name: label, dtype: int64"
      ]
     },
     "execution_count": 28,
     "metadata": {},
     "output_type": "execute_result"
    }
   ],
   "source": [
    "dataInjury['label'].value_counts()"
   ]
  },
  {
   "cell_type": "code",
   "execution_count": 43,
   "metadata": {},
   "outputs": [],
   "source": [
    "dataset = dataInjury[['ann_gross_weight','weight_ratio','damage_m','laying_obs_time_dif','distance_weight','time_diff_weight','distance_degree','damage_degree','label']]"
   ]
  },
  {
   "cell_type": "code",
   "execution_count": 45,
   "metadata": {},
   "outputs": [
    {
     "data": {
      "text/html": [
       "<div>\n",
       "<style scoped>\n",
       "    .dataframe tbody tr th:only-of-type {\n",
       "        vertical-align: middle;\n",
       "    }\n",
       "\n",
       "    .dataframe tbody tr th {\n",
       "        vertical-align: top;\n",
       "    }\n",
       "\n",
       "    .dataframe thead th {\n",
       "        text-align: right;\n",
       "    }\n",
       "</style>\n",
       "<table border=\"1\" class=\"dataframe\">\n",
       "  <thead>\n",
       "    <tr style=\"text-align: right;\">\n",
       "      <th></th>\n",
       "      <th>ann_gross_weight</th>\n",
       "      <th>weight_ratio</th>\n",
       "      <th>damage_m</th>\n",
       "      <th>laying_obs_time_dif</th>\n",
       "      <th>distance_weight</th>\n",
       "      <th>time_diff_weight</th>\n",
       "      <th>distance_degree</th>\n",
       "      <th>damage_degree</th>\n",
       "      <th>label</th>\n",
       "    </tr>\n",
       "  </thead>\n",
       "  <tbody>\n",
       "    <tr>\n",
       "      <th>0</th>\n",
       "      <td>76.739</td>\n",
       "      <td>0.907</td>\n",
       "      <td>1</td>\n",
       "      <td>3744</td>\n",
       "      <td>0.001</td>\n",
       "      <td>351.000</td>\n",
       "      <td>15.789</td>\n",
       "      <td>0</td>\n",
       "      <td>0</td>\n",
       "    </tr>\n",
       "    <tr>\n",
       "      <th>1</th>\n",
       "      <td>89.190</td>\n",
       "      <td>1.007</td>\n",
       "      <td>1</td>\n",
       "      <td>4658</td>\n",
       "      <td>0.001</td>\n",
       "      <td>358.000</td>\n",
       "      <td>16.667</td>\n",
       "      <td>0</td>\n",
       "      <td>0</td>\n",
       "    </tr>\n",
       "    <tr>\n",
       "      <th>2</th>\n",
       "      <td>67.745</td>\n",
       "      <td>0.487</td>\n",
       "      <td>1</td>\n",
       "      <td>2496</td>\n",
       "      <td>0.001</td>\n",
       "      <td>0.000</td>\n",
       "      <td>0.000</td>\n",
       "      <td>0</td>\n",
       "      <td>0</td>\n",
       "    </tr>\n",
       "    <tr>\n",
       "      <th>3</th>\n",
       "      <td>89.190</td>\n",
       "      <td>1.007</td>\n",
       "      <td>1</td>\n",
       "      <td>4658</td>\n",
       "      <td>0.001</td>\n",
       "      <td>0.000</td>\n",
       "      <td>0.000</td>\n",
       "      <td>0</td>\n",
       "      <td>0</td>\n",
       "    </tr>\n",
       "    <tr>\n",
       "      <th>4</th>\n",
       "      <td>38.365</td>\n",
       "      <td>0.413</td>\n",
       "      <td>1</td>\n",
       "      <td>3532</td>\n",
       "      <td>0.001</td>\n",
       "      <td>218.007</td>\n",
       "      <td>70.714</td>\n",
       "      <td>0</td>\n",
       "      <td>0</td>\n",
       "    </tr>\n",
       "  </tbody>\n",
       "</table>\n",
       "</div>"
      ],
      "text/plain": [
       "   ann_gross_weight  weight_ratio  damage_m  laying_obs_time_dif  \\\n",
       "0            76.739         0.907         1                 3744   \n",
       "1            89.190         1.007         1                 4658   \n",
       "2            67.745         0.487         1                 2496   \n",
       "3            89.190         1.007         1                 4658   \n",
       "4            38.365         0.413         1                 3532   \n",
       "\n",
       "   distance_weight  time_diff_weight  distance_degree  damage_degree  label  \n",
       "0            0.001           351.000           15.789              0      0  \n",
       "1            0.001           358.000           16.667              0      0  \n",
       "2            0.001             0.000            0.000              0      0  \n",
       "3            0.001             0.000            0.000              0      0  \n",
       "4            0.001           218.007           70.714              0      0  "
      ]
     },
     "execution_count": 45,
     "metadata": {},
     "output_type": "execute_result"
    }
   ],
   "source": [
    "dataset.head()"
   ]
  },
  {
   "cell_type": "markdown",
   "metadata": {},
   "source": [
    "### 对月份进行one-hot编码"
   ]
  },
  {
   "cell_type": "code",
   "execution_count": 44,
   "metadata": {},
   "outputs": [],
   "source": [
    "def oneHot(data, colName):\n",
    "    from sklearn.preprocessing import LabelEncoder\n",
    "    from sklearn.preprocessing import OneHotEncoder\n",
    "    values = data[colName].values\n",
    "    # integer encode\n",
    "    label_encoder = LabelEncoder()\n",
    "    integer_encoded = label_encoder.fit_transform(values)\n",
    "    # binary encode\n",
    "    onehot_encoder = OneHotEncoder(sparse=False)\n",
    "    integer_encoded = integer_encoded.reshape(len(integer_encoded), 1)\n",
    "    onehot_encoded = onehot_encoder.fit_transform(integer_encoded)\n",
    "    # print(onehot_encoded)\n",
    "    for i in range(onehot_encoded.shape[1]):\n",
    "        data['y_degree' + str(i)] = onehot_encoded[:, i]\n",
    "    return data"
   ]
  },
  {
   "cell_type": "code",
   "execution_count": 45,
   "metadata": {},
   "outputs": [],
   "source": [
    "X = dataset.iloc[:,:-1]\n",
    "y =dataset.iloc[:,-1]"
   ]
  },
  {
   "cell_type": "markdown",
   "metadata": {},
   "source": [
    "X =oneHot(X,'damage_m')"
   ]
  },
  {
   "cell_type": "markdown",
   "metadata": {},
   "source": [
    "## 全部伤损类别下采样"
   ]
  },
  {
   "cell_type": "code",
   "execution_count": 46,
   "metadata": {},
   "outputs": [
    {
     "name": "stderr",
     "output_type": "stream",
     "text": [
      "D:\\ProgramData\\Anaconda3\\lib\\site-packages\\sklearn\\utils\\deprecation.py:87: FutureWarning: Function safe_indexing is deprecated; safe_indexing is deprecated in version 0.22 and will be removed in version 0.24.\n",
      "  warnings.warn(msg, category=FutureWarning)\n"
     ]
    },
    {
     "data": {
      "text/plain": [
       "[(0, 3032), (1, 3032)]"
      ]
     },
     "execution_count": 46,
     "metadata": {},
     "output_type": "execute_result"
    }
   ],
   "source": [
    "# RandomUnderSampler函数是一种快速并十分简单的方式来平衡各个类别的数据: 随机选取数据的子集.\n",
    "from collections import Counter\n",
    "from imblearn.under_sampling import RandomUnderSampler\n",
    "rus = RandomUnderSampler(random_state=0)\n",
    "X_resampled, y_resampled = rus.fit_sample(X, y)\n",
    " \n",
    "sorted(Counter(y_resampled).items())"
   ]
  },
  {
   "cell_type": "code",
   "execution_count": 64,
   "metadata": {},
   "outputs": [],
   "source": [
    "cols=['ann_gross_weight','weight_ratio','damage_m','laying_obs_time_dif','distance_weight','time_diff_weight','distance_degree','damage_degree']\n",
    "\n",
    "dataX = pd.DataFrame(data = X_resampled,columns=cols)\n",
    "dataY = pd.DataFrame(data = y_resampled,columns=['label'])\n",
    "dataY['degree'] = dataX.iloc[:,-1].apply(lambda x: str(x))\n",
    "dataY = oneHot(dataY,'degree')\n",
    "dataX = dataX.iloc[:,:-1]\n",
    "\n",
    "#del dataY['degree']"
   ]
  },
  {
   "cell_type": "code",
   "execution_count": 48,
   "metadata": {},
   "outputs": [
    {
     "data": {
      "text/html": [
       "<div>\n",
       "<style scoped>\n",
       "    .dataframe tbody tr th:only-of-type {\n",
       "        vertical-align: middle;\n",
       "    }\n",
       "\n",
       "    .dataframe tbody tr th {\n",
       "        vertical-align: top;\n",
       "    }\n",
       "\n",
       "    .dataframe thead th {\n",
       "        text-align: right;\n",
       "    }\n",
       "</style>\n",
       "<table border=\"1\" class=\"dataframe\">\n",
       "  <thead>\n",
       "    <tr style=\"text-align: right;\">\n",
       "      <th></th>\n",
       "      <th>label</th>\n",
       "      <th>degree</th>\n",
       "      <th>y_degree0</th>\n",
       "      <th>y_degree1</th>\n",
       "      <th>y_degree2</th>\n",
       "      <th>y_degree3</th>\n",
       "      <th>y_degree4</th>\n",
       "    </tr>\n",
       "  </thead>\n",
       "  <tbody>\n",
       "    <tr>\n",
       "      <th>0</th>\n",
       "      <td>0</td>\n",
       "      <td>0.0</td>\n",
       "      <td>1.0</td>\n",
       "      <td>0.0</td>\n",
       "      <td>0.0</td>\n",
       "      <td>0.0</td>\n",
       "      <td>0.0</td>\n",
       "    </tr>\n",
       "    <tr>\n",
       "      <th>1</th>\n",
       "      <td>0</td>\n",
       "      <td>0.0</td>\n",
       "      <td>1.0</td>\n",
       "      <td>0.0</td>\n",
       "      <td>0.0</td>\n",
       "      <td>0.0</td>\n",
       "      <td>0.0</td>\n",
       "    </tr>\n",
       "    <tr>\n",
       "      <th>2</th>\n",
       "      <td>0</td>\n",
       "      <td>0.0</td>\n",
       "      <td>1.0</td>\n",
       "      <td>0.0</td>\n",
       "      <td>0.0</td>\n",
       "      <td>0.0</td>\n",
       "      <td>0.0</td>\n",
       "    </tr>\n",
       "    <tr>\n",
       "      <th>3</th>\n",
       "      <td>0</td>\n",
       "      <td>0.0</td>\n",
       "      <td>1.0</td>\n",
       "      <td>0.0</td>\n",
       "      <td>0.0</td>\n",
       "      <td>0.0</td>\n",
       "      <td>0.0</td>\n",
       "    </tr>\n",
       "    <tr>\n",
       "      <th>4</th>\n",
       "      <td>0</td>\n",
       "      <td>0.0</td>\n",
       "      <td>1.0</td>\n",
       "      <td>0.0</td>\n",
       "      <td>0.0</td>\n",
       "      <td>0.0</td>\n",
       "      <td>0.0</td>\n",
       "    </tr>\n",
       "  </tbody>\n",
       "</table>\n",
       "</div>"
      ],
      "text/plain": [
       "   label degree  y_degree0  y_degree1  y_degree2  y_degree3  y_degree4\n",
       "0      0    0.0        1.0        0.0        0.0        0.0        0.0\n",
       "1      0    0.0        1.0        0.0        0.0        0.0        0.0\n",
       "2      0    0.0        1.0        0.0        0.0        0.0        0.0\n",
       "3      0    0.0        1.0        0.0        0.0        0.0        0.0\n",
       "4      0    0.0        1.0        0.0        0.0        0.0        0.0"
      ]
     },
     "execution_count": 48,
     "metadata": {},
     "output_type": "execute_result"
    }
   ],
   "source": [
    "dataY.head()"
   ]
  },
  {
   "cell_type": "code",
   "execution_count": 49,
   "metadata": {},
   "outputs": [
    {
     "name": "stdout",
     "output_type": "stream",
     "text": [
      "Automatically created module for IPython interactive environment\n"
     ]
    }
   ],
   "source": [
    "import io\n",
    "import numpy as np\n",
    "import matplotlib.pyplot as plt\n",
    "\n",
    "from sklearn.datasets import get_data_home\n",
    "from sklearn.externals.joblib import Memory\n",
    "from sklearn.multioutput import ClassifierChain,MultiOutputClassifier\n",
    "from sklearn.model_selection import train_test_split\n",
    "from sklearn.multiclass import OneVsRestClassifier\n",
    "from sklearn.metrics import jaccard_similarity_score\n",
    "from sklearn.linear_model import LogisticRegression\n",
    "from sklearn.tree import DecisionTreeClassifier\n",
    "try:\n",
    "    from urllib.request import urlopen\n",
    "except ImportError:\n",
    "    # Python 2\n",
    "    from urllib2 import urlopen\n",
    "\n",
    "print(__doc__)"
   ]
  },
  {
   "cell_type": "markdown",
   "metadata": {},
   "source": [
    "# 样本切分"
   ]
  },
  {
   "cell_type": "code",
   "execution_count": 65,
   "metadata": {},
   "outputs": [],
   "source": [
    "X_train, X_test, Y_train, Y_test = train_test_split(dataX, dataY, test_size=.2,\n",
    "                                                    random_state=10)"
   ]
  },
  {
   "cell_type": "markdown",
   "metadata": {},
   "source": [
    "# OneVsRestClassifier"
   ]
  },
  {
   "cell_type": "code",
   "execution_count": 66,
   "metadata": {},
   "outputs": [
    {
     "name": "stderr",
     "output_type": "stream",
     "text": [
      "D:\\ProgramData\\Anaconda3\\lib\\site-packages\\sklearn\\metrics\\_classification.py:664: FutureWarning: jaccard_similarity_score has been deprecated and replaced with jaccard_score. It will be removed in version 0.23. This implementation has surprising behavior for binary and multiclass classification tasks.\n",
      "  FutureWarning)\n"
     ]
    }
   ],
   "source": [
    "# Fit an independent logistic regression model for each class using the\n",
    "# OneVsRestClassifier wrapper.\n",
    "#ovr = OneVsRestClassifier(LogisticRegression())\n",
    "ovr = OneVsRestClassifier(DecisionTreeClassifier())\n",
    "ovr.fit(X_train, Y_train.loc[:,'degree'])\n",
    "Y_pred_ovr = ovr.predict(X_test)\n",
    "ovr_jaccard_score = jaccard_similarity_score(Y_test.loc[:,'degree'], Y_pred_ovr)"
   ]
  },
  {
   "cell_type": "code",
   "execution_count": 67,
   "metadata": {},
   "outputs": [
    {
     "name": "stdout",
     "output_type": "stream",
     "text": [
      "准确率\n",
      "0.9439406430338005\n",
      "分类器精确度，召回率，F1值等信息。\n",
      "              precision    recall  f1-score   support\n",
      "\n",
      "         0.0       1.00      1.00      1.00       621\n",
      "         1.0       0.50      1.00      0.67         1\n",
      "         2.0       0.87      0.81      0.84       168\n",
      "         3.0       0.94      0.92      0.93       420\n",
      "         4.0       0.00      0.00      0.00         3\n",
      "\n",
      "    accuracy                           0.94      1213\n",
      "   macro avg       0.66      0.75      0.69      1213\n",
      "weighted avg       0.96      0.94      0.95      1213\n",
      "\n"
     ]
    },
    {
     "data": {
      "text/plain": [
       "<matplotlib.axes._subplots.AxesSubplot at 0x1a61045cba8>"
      ]
     },
     "execution_count": 67,
     "metadata": {},
     "output_type": "execute_result"
    },
    {
     "data": {
      "image/png": "[encoded data removed]",
      "text/plain": [
       "<Figure size 432x288 with 2 Axes>"
      ]
     },
     "metadata": {
      "needs_background": "light"
     },
     "output_type": "display_data"
    }
   ],
   "source": [
    "from sklearn.metrics import accuracy_score\n",
    "from sklearn.metrics import classification_report\n",
    "from sklearn.metrics import confusion_matrix\n",
    "import seaborn as sns\n",
    "print('准确率')\n",
    "print(accuracy_score(Y_test.loc[:,'degree'], Y_pred_ovr)) # 打印评估指标（分类准确率）\n",
    "print('分类器精确度，召回率，F1值等信息。')\n",
    "print(classification_report(Y_test.loc[:,'degree'], Y_pred_ovr)) \n",
    "\n",
    "conf = confusion_matrix(Y_test.loc[:,'degree'], Y_pred_ovr) # 混淆矩阵\n",
    "\n",
    "label = [\"0\",\"1\",\"2\",\"3\",\"4\"] # \n",
    "sns.heatmap(conf, annot = True, xticklabels=label, yticklabels=label)"
   ]
  },
  {
   "cell_type": "markdown",
   "metadata": {},
   "source": [
    "# 模型保存"
   ]
  },
  {
   "cell_type": "code",
   "execution_count": 62,
   "metadata": {},
   "outputs": [],
   "source": [
    "def pmml_save(model, feat_list, save_file_path):\n",
    "    '''\n",
    "    ------------------\n",
    "    功能：将训练完成的模型保存为pmml文件\n",
    "    ------------------\n",
    "    :param model: sklearn机器学习包实例化后训练完毕的模型\n",
    "    :param feat_list: list, 最终入模的特征变量列表。\n",
    "           若不指定feats_list, 那么写入的pmml中特征名默认取值为['x0', 'x1', ...]\n",
    "    :param save_file_path: str, 保存模型文件的目标路径\n",
    "    ------------------\n",
    "    :return None\n",
    "    ------------------\n",
    "    '''\n",
    "    from sklearn2pmml import sklearn2pmml, PMMLPipeline\n",
    "    from sklearn_pandas import DataFrameMapper\n",
    "\n",
    "    if not save_file_path.endswith('.pmml'):\n",
    "        raise Exception('参数save_file_path后缀必须为pmml, 请检查！')\n",
    "        \n",
    "    mapper = DataFrameMapper([([i], None) for i in feat_list])\n",
    "    pipeline = PMMLPipeline([('mapper', mapper), (\"classifier\", model)])\n",
    "    sklearn2pmml(pipeline, pmml=save_file_path)\n",
    "    \n",
    "    print('模型文件已保存至{}'.format(save_file_path))"
   ]
  },
  {
   "cell_type": "code",
   "execution_count": 63,
   "metadata": {},
   "outputs": [
    {
     "name": "stderr",
     "output_type": "stream",
     "text": [
      "D:\\ProgramData\\Anaconda3\\lib\\site-packages\\sklearn\\base.py:197: FutureWarning: From version 0.24, get_params will raise an AttributeError if a parameter cannot be retrieved as an instance attribute. Previously it would return None.\n",
      "  FutureWarning)\n"
     ]
    },
    {
     "name": "stdout",
     "output_type": "stream",
     "text": [
      "模型文件已保存至model_PMML/ovrMultClassify.pmml\n"
     ]
    }
   ],
   "source": [
    "cols = ['ann_gross_weight','weight_ratio','damage_m','laying_obs_time_dif','distance_weight','time_diff_weight','distance_degree']\n",
    "import os\n",
    "os.environ[\"PATH\"] += os.pathsep + 'C:/Program Files/Java/jdk1.8.0_211/bin'\n",
    "\n",
    "pmml_save(ovr,cols,'model_PMML/ovrMultClassify.pmml')"
   ]
  },
  {
   "cell_type": "code",
   "execution_count": 53,
   "metadata": {},
   "outputs": [
    {
     "data": {
      "text/plain": [
       "0.9406430338004946"
      ]
     },
     "execution_count": 53,
     "metadata": {},
     "output_type": "execute_result"
    }
   ],
   "source": [
    "ovr_jaccard_score"
   ]
  },
  {
   "cell_type": "code",
   "execution_count": 54,
   "metadata": {},
   "outputs": [
    {
     "data": {
      "text/plain": [
       "[('0.0', 622), ('1.0', 2), ('2.0', 156), ('3.0', 410), ('4.0', 23)]"
      ]
     },
     "execution_count": 54,
     "metadata": {},
     "output_type": "execute_result"
    }
   ],
   "source": [
    "sorted(Counter(Y_pred_ovr).items())"
   ]
  },
  {
   "cell_type": "markdown",
   "metadata": {},
   "source": [
    "# Classifier Chains"
   ]
  },
  {
   "cell_type": "code",
   "execution_count": 68,
   "metadata": {},
   "outputs": [],
   "source": [
    "col = list(Y_train.columns)\n",
    "col.pop(col.index('degree'))\n",
    "Y_train2 = Y_train[col]\n",
    "Y_test2 = Y_test[col]"
   ]
  },
  {
   "cell_type": "markdown",
   "metadata": {},
   "source": [
    "Classifier Chains方式的优点如下： \n",
    "    • 实现方式相对比较简单，容易理解； \n",
    "    • 考虑标签之间的依赖关系，最终模型的泛化能力相对于Binary Relevance方 式构建的模型效果要好。 \n",
    "• 缺点如下： \n",
    "    • 很难找到一个比较适合的标签依赖关系。\n"
   ]
  },
  {
   "cell_type": "code",
   "execution_count": 69,
   "metadata": {},
   "outputs": [
    {
     "name": "stderr",
     "output_type": "stream",
     "text": [
      "D:\\ProgramData\\Anaconda3\\lib\\site-packages\\sklearn\\metrics\\_classification.py:664: FutureWarning: jaccard_similarity_score has been deprecated and replaced with jaccard_score. It will be removed in version 0.23. This implementation has surprising behavior for binary and multiclass classification tasks.\n",
      "  FutureWarning)\n"
     ]
    }
   ],
   "source": [
    "# Fit an ensemble of logistic regression classifier chains and take the\n",
    "# take the average prediction of all the chains.\n",
    "chains = [ClassifierChain(DecisionTreeClassifier(), order='random', random_state=i)\n",
    "          for i in range(6)]\n",
    "for chain in chains:\n",
    "    chain.fit(X_train, Y_train2)\n",
    "\n",
    "Y_pred_chains = np.array([chain.predict(X_test) for chain in\n",
    "                          chains])\n",
    "chain_jaccard_scores = [jaccard_similarity_score(Y_test2, Y_pred_chain >= .5)\n",
    "                        for Y_pred_chain in Y_pred_chains]\n",
    "\n",
    "Y_pred_ensemble = Y_pred_chains.mean(axis=0)\n",
    "ensemble_jaccard_score = jaccard_similarity_score(Y_test2,\n",
    "                                                  Y_pred_ensemble >= .5)\n",
    "\n",
    "model_scores = [ovr_jaccard_score] + chain_jaccard_scores\n",
    "model_scores.append(ensemble_jaccard_score)"
   ]
  },
  {
   "cell_type": "markdown",
   "metadata": {},
   "source": [
    "# 还原预测标签"
   ]
  },
  {
   "cell_type": "code",
   "execution_count": 70,
   "metadata": {},
   "outputs": [],
   "source": [
    "def getPreY(data,probability):\n",
    "    import numpy as np\n",
    "    y_pre = []\n",
    "    for i in range(len(data)):\n",
    "        temp=[]\n",
    "        if data[i][0] > probability:\n",
    "            temp.append(1)\n",
    "        else:\n",
    "             temp.append(0) \n",
    "        temp.append(data[i][1:].argmax())\n",
    "        y_pre.append(temp)\n",
    "    return y_pre"
   ]
  },
  {
   "cell_type": "code",
   "execution_count": 76,
   "metadata": {},
   "outputs": [
    {
     "name": "stdout",
     "output_type": "stream",
     "text": [
      "0    622\n",
      "1    591\n",
      "Name: 0, dtype: int64 0    622\n",
      "3    411\n",
      "2    176\n",
      "4      2\n",
      "1      2\n",
      "Name: 1, dtype: int64\n"
     ]
    }
   ],
   "source": [
    "y_pre = getPreY(Y_pred_ensemble,0.5)\n",
    "y1= pd.DataFrame(y_pre).iloc[:,0].value_counts()\n",
    "y2= pd.DataFrame(y_pre).iloc[:,1].value_counts()\n",
    "print(y1,y2)"
   ]
  },
  {
   "cell_type": "code",
   "execution_count": 93,
   "metadata": {
    "collapsed": true,
    "jupyter": {
     "outputs_hidden": true
    }
   },
   "outputs": [
    {
     "data": {
      "text/plain": [
       "3224    3\n",
       "2671    0\n",
       "3283    3\n",
       "4580    2\n",
       "3304    3\n",
       "4934    3\n",
       "5942    3\n",
       "502     0\n",
       "4639    3\n",
       "5439    3\n",
       "1208    0\n",
       "2636    0\n",
       "5386    2\n",
       "1067    0\n",
       "6057    2\n",
       "3012    0\n",
       "1852    0\n",
       "5204    2\n",
       "1806    0\n",
       "413     0\n",
       "3117    3\n",
       "3343    2\n",
       "5301    3\n",
       "4633    3\n",
       "1259    0\n",
       "1957    0\n",
       "181     0\n",
       "1668    0\n",
       "4085    2\n",
       "5456    2\n",
       "       ..\n",
       "5059    3\n",
       "2537    0\n",
       "2153    0\n",
       "4531    2\n",
       "5442    3\n",
       "5891    3\n",
       "645     0\n",
       "3214    3\n",
       "3816    3\n",
       "2283    0\n",
       "4550    3\n",
       "3132    3\n",
       "5992    3\n",
       "2891    0\n",
       "5908    3\n",
       "3726    2\n",
       "2108    0\n",
       "5668    3\n",
       "1841    0\n",
       "132     0\n",
       "3472    3\n",
       "4879    3\n",
       "1935    0\n",
       "1661    0\n",
       "4127    3\n",
       "3264    3\n",
       "1523    0\n",
       "1144    0\n",
       "176     0\n",
       "2925    0\n",
       "Name: degree, Length: 1213, dtype: int64"
      ]
     },
     "execution_count": 93,
     "metadata": {},
     "output_type": "execute_result"
    }
   ],
   "source": [
    "Y_test.loc[:,'degree'].apply(lambda x:int(float(x)))"
   ]
  },
  {
   "cell_type": "code",
   "execution_count": 96,
   "metadata": {},
   "outputs": [
    {
     "data": {
      "text/plain": [
       "<matplotlib.axes._subplots.AxesSubplot at 0x1a60454ccc0>"
      ]
     },
     "execution_count": 96,
     "metadata": {},
     "output_type": "execute_result"
    },
    {
     "data": {
      "image/png": "[encoded data removed]",
      "text/plain": [
       "<Figure size 432x288 with 2 Axes>"
      ]
     },
     "metadata": {
      "needs_background": "light"
     },
     "output_type": "display_data"
    }
   ],
   "source": [
    "y_pre = pd.DataFrame(y_pre,columns=['label','degree']).applymap(str)\n",
    "from sklearn.metrics import confusion_matrix\n",
    "mul_scores = confusion_matrix(Y_test.loc[:,'degree'].apply(lambda x:int(float(x))), y_pre.loc[:,'degree'].apply(lambda x:int(float(x)))) # 混淆矩阵\n",
    "label = [\"0\",\"1\",\"2\",\"3\",\"4\"] # \n",
    "sns.heatmap(mul_scores, annot = True, xticklabels=label, yticklabels=label)"
   ]
  },
  {
   "cell_type": "code",
   "execution_count": null,
   "metadata": {},
   "outputs": [],
   "source": []
  },
  {
   "cell_type": "markdown",
   "metadata": {},
   "source": [
    "# 模型效果展示"
   ]
  },
  {
   "cell_type": "code",
   "execution_count": 60,
   "metadata": {},
   "outputs": [
    {
     "data": {
      "image/png": "[encoded data removed]",
      "text/plain": [
       "<Figure size 504x288 with 1 Axes>"
      ]
     },
     "metadata": {
      "needs_background": "light"
     },
     "output_type": "display_data"
    }
   ],
   "source": [
    "model_names = ['Independent']+['Chain '+str(i) for i in range(len(model_scores)-2)]+ ['Ensemble']\n",
    "\n",
    "x_pos = np.arange(len(model_names))\n",
    "\n",
    "# Plot the Jaccard similarity scores for the independent model, each of the\n",
    "# chains, and the ensemble (note that the vertical axis on this plot does\n",
    "# not begin at 0).\n",
    "\n",
    "fig, ax = plt.subplots(figsize=(7, 4))\n",
    "ax.grid(True)\n",
    "ax.set_title('Classifier Chain Ensemble Performance Comparison')\n",
    "ax.set_xticks(x_pos)\n",
    "ax.set_xticklabels(model_names, rotation='vertical')\n",
    "ax.set_ylabel('Jaccard Similarity Score')\n",
    "ax.set_ylim([min(model_scores) * .9, max(model_scores) * 1.1])\n",
    "colors = ['r'] + ['b'] * len(chain_jaccard_scores) + ['g']\n",
    "ax.bar(x_pos, model_scores, alpha=0.5, color=colors)\n",
    "plt.tight_layout()\n",
    "plt.show()"
   ]
  },
  {
   "cell_type": "code",
   "execution_count": 61,
   "metadata": {},
   "outputs": [
    {
     "data": {
      "text/plain": [
       "[0.9406430338004946,\n",
       " 0.9637262984336357,\n",
       " 0.9640697993954381,\n",
       " 0.966199505358615,\n",
       " 0.9683979115141523,\n",
       " 0.9625583951635064,\n",
       " 0.9634514976641935,\n",
       " 0.9655812036273702,\n",
       " 0.9670239076669415,\n",
       " 0.9629018961253092,\n",
       " 0.9653751030502885,\n",
       " 0.9693597142071999]"
      ]
     },
     "execution_count": 61,
     "metadata": {},
     "output_type": "execute_result"
    }
   ],
   "source": [
    "model_scores"
   ]
  },
  {
   "cell_type": "markdown",
   "metadata": {},
   "source": [
    "# Binary Relevance"
   ]
  },
  {
   "cell_type": "markdown",
   "metadata": {},
   "source": [
    "Binary Relevance方式的优点如下： \n",
    "    • 实现方式简单，容易理解； \n",
    "    • 当y值之间不存在相关的依赖关系的时候，模型的效果不错。 \n",
    "• 缺点如下： \n",
    "    • 如果y直接存在相互的依赖关系，那么最终构建的模型的泛化能力比较 弱； \n",
    "    • 需要构建q个二分类器，q为待预测的y值数量，当q比较大的时候，需 要构建的模型会比较多\n"
   ]
  },
  {
   "cell_type": "code",
   "execution_count": 21,
   "metadata": {},
   "outputs": [
    {
     "name": "stderr",
     "output_type": "stream",
     "text": [
      "D:\\ProgramData\\Anaconda3\\lib\\site-packages\\sklearn\\metrics\\_classification.py:664: FutureWarning: jaccard_similarity_score has been deprecated and replaced with jaccard_score. It will be removed in version 0.23. This implementation has surprising behavior for binary and multiclass classification tasks.\n",
      "  FutureWarning)\n"
     ]
    }
   ],
   "source": [
    "# Fit an ensemble of logistic regression classifier chains and take the\n",
    "# take the average prediction of all the chains.\n",
    "br= MultiOutputClassifier(DecisionTreeClassifier())\n",
    "br.fit(X_train, Y_train)\n",
    "\n",
    "Y_pred_br = br.predict(X_test)\n",
    "br_jaccard_scores =jaccard_similarity_score(Y_test, Y_pred_br >= .5)\n",
    "\n",
    "br_scores = [ovr_jaccard_score]\n",
    "br_scores.append(br_jaccard_scores)"
   ]
  },
  {
   "cell_type": "code",
   "execution_count": 22,
   "metadata": {},
   "outputs": [
    {
     "data": {
      "text/plain": [
       "[0.9650316020884859, 0.9640010992030777]"
      ]
     },
     "execution_count": 22,
     "metadata": {},
     "output_type": "execute_result"
    }
   ],
   "source": [
    "br_scores"
   ]
  },
  {
   "cell_type": "code",
   "execution_count": 23,
   "metadata": {},
   "outputs": [
    {
     "data": {
      "image/png": "[encoded data removed]",
      "text/plain": [
       "<Figure size 504x288 with 1 Axes>"
      ]
     },
     "metadata": {
      "needs_background": "light"
     },
     "output_type": "display_data"
    }
   ],
   "source": [
    "model_names = ('Independent',\n",
    "               'Chain 1')\n",
    "\n",
    "x_pos = np.arange(len(model_names))\n",
    "\n",
    "# Plot the Jaccard similarity scores for the independent model, each of the\n",
    "# chains, and the ensemble (note that the vertical axis on this plot does\n",
    "# not begin at 0).\n",
    "\n",
    "fig, ax = plt.subplots(figsize=(7, 4))\n",
    "ax.grid(True)\n",
    "ax.set_title(' Binary Relevance Performance Comparison')\n",
    "ax.set_xticks(x_pos)\n",
    "ax.set_xticklabels(model_names, rotation='vertical')\n",
    "ax.set_ylabel('Jaccard Similarity Score')\n",
    "ax.set_ylim([min(br_scores) * .9, max(br_scores) * 1.1])\n",
    "colors = ['r'] + ['b']\n",
    "ax.bar(x_pos, br_scores, alpha=0.5, color=colors)\n",
    "plt.tight_layout()\n",
    "plt.show()"
   ]
  }
 ],
 "metadata": {
  "kernelspec": {
   "display_name": "Python 3",
   "language": "python",
   "name": "python3"
  },
  "language_info": {
   "codemirror_mode": {
    "name": "ipython",
    "version": 3
   },
   "file_extension": ".py",
   "mimetype": "text/x-python",
   "name": "python",
   "nbconvert_exporter": "python",
   "pygments_lexer": "ipython3",
   "version": "3.7.3"
  },
  "toc-autonumbering": true
 },
 "nbformat": 4,
 "nbformat_minor": 4
}
